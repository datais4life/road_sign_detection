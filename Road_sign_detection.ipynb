{
 "cells": [
  {
   "cell_type": "markdown",
   "metadata": {
    "colab_type": "text",
    "id": "view-in-github"
   },
   "source": [
    "<a href=\"https://colab.research.google.com/github/PacktPublishing/Hands-On-Computer-Vision-with-PyTorch/blob/master/Chapter06/Road_sign_detection.ipynb\" target=\"_parent\"><img src=\"https://colab.research.google.com/assets/colab-badge.svg\" alt=\"Open In Colab\"/></a>"
   ]
  },
  {
   "cell_type": "markdown",
   "metadata": {},
   "source": [
    "### Road Sign Object Detection"
   ]
  },
  {
   "cell_type": "code",
   "execution_count": 16,
   "metadata": {},
   "outputs": [
    {
     "name": "stdout",
     "output_type": "stream",
     "text": [
      "\n",
      "Usage:   \n",
      "  pip install [options] <requirement specifier> [package-index-options] ...\n",
      "  pip install [options] -r <requirements file> [package-index-options] ...\n",
      "  pip install [options] [-e] <vcs project url> ...\n",
      "  pip install [options] [-e] <local project path> ...\n",
      "  pip install [options] <archive url/path> ...\n",
      "\n",
      "no such option: --break-system-packages\n"
     ]
    }
   ],
   "source": [
    "# Import the needed packages\n",
    "import torchvision\n",
    "import torch.nn as nn\n",
    "import torch\n",
    "import torch.nn.functional as F\n",
    "from torchvision import transforms,models,datasets\n",
    "import matplotlib.pyplot as plt\n",
    "from PIL import Image\n",
    "import numpy as np\n",
    "from torch import optim\n",
    "device = 'cuda' if torch.cuda.is_available() else 'cpu'\n",
    "import cv2, glob, numpy as np, pandas as pd \n",
    "import matplotlib.pyplot as plt\n",
    "%matplotlib inline\n",
    "from glob import glob\n",
    "!pip install torchsummary --break-system-packages"
   ]
  },
  {
   "cell_type": "code",
   "execution_count": 18,
   "metadata": {
    "colab": {
     "base_uri": "https://localhost:8080/",
     "height": 276
    },
    "id": "LFTmB5VM1rp6",
    "outputId": "26c5428d-c367-4515-d666-9d8d6df4aedd"
   },
   "outputs": [
    {
     "name": "stdout",
     "output_type": "stream",
     "text": [
      "--2024-02-26 14:30:52--  https://raw.githubusercontent.com/georgesung/traffic_sign_classification_german/master/signnames.csv\n",
      "Resolving raw.githubusercontent.com (raw.githubusercontent.com)... 185.199.111.133, 185.199.109.133, 185.199.110.133, ...\n",
      "Connecting to raw.githubusercontent.com (raw.githubusercontent.com)|185.199.111.133|:443... connected.\n",
      "HTTP request sent, awaiting response... 200 OK\n",
      "Length: 999 [text/plain]\n",
      "Saving to: ‘signnames.csv.1’\n",
      "\n",
      "signnames.csv.1     100%[===================>]     999  --.-KB/s    in 0s      \n",
      "\n",
      "2024-02-26 14:30:52 (144 MB/s) - ‘signnames.csv.1’ saved [999/999]\n",
      "\n"
     ]
    }
   ],
   "source": [
    "# Download the data\n",
    "import os\n",
    "if not os.path.exists('GTSRB'):\n",
    "    !pip install -U -q torch_snippets \n",
    "    !wget -qq https://sid.erda.dk/public/archives/daaeac0d7ce1152aea9b61d9f1e19370/GTSRB_Final_Training_Images.zip\n",
    "    !wget -qq https://sid.erda.dk/public/archives/daaeac0d7ce1152aea9b61d9f1e19370/GTSRB_Final_Test_Images.zip\n",
    "    !wget https://raw.githubusercontent.com/georgesung/traffic_sign_classification_german/master/signnames.csv"
   ]
  },
  {
   "cell_type": "code",
   "execution_count": null,
   "metadata": {},
   "outputs": [],
   "source": [
    "# Unzip the data files in terminal using commented commands\n",
    "#!unzip -qq GTSRB_Final_Training_Images.zip\n",
    "#!unzip -qq GTSRB_Final_Test_Images.zip"
   ]
  },
  {
   "cell_type": "code",
   "execution_count": 31,
   "metadata": {},
   "outputs": [],
   "source": [
    "# Remove the zip file to clean up\n",
    "!rm GTSRB_Final_Training_Images.zip GTSRB_Final_Test_Images.zip"
   ]
  },
  {
   "cell_type": "code",
   "execution_count": 32,
   "metadata": {
    "colab": {
     "base_uri": "https://localhost:8080/",
     "height": 743
    },
    "id": "tzJe_92X3wRG",
    "outputId": "3dc3ce9d-6e28-4924-ba1e-5664915e4a3c"
   },
   "outputs": [],
   "source": [
    "# Define the transformation pipeline on top of the image without augmentation.\n",
    "from torch_snippets import *\n",
    "classIds = pd.read_csv('signnames.csv')\n",
    "classIds.set_index('ClassId', inplace=True)\n",
    "classIds = classIds.to_dict()['SignName']\n",
    "classIds = {f'{k:05d}':v for k,v in classIds.items()}\n",
    "id2int = {v:ix for ix,(k,v) in enumerate(classIds.items())}\n",
    "\n",
    "from torchvision import transforms as T\n",
    "classIds = pd.read_csv('signnames.csv')\n",
    "classIds.set_index('ClassId', inplace=True)\n",
    "classIds = classIds.to_dict()['SignName']\n",
    "classIds = {f'{k:05d}':v for k,v in classIds.items()}\n",
    "id2int = {v:ix for ix,(k,v) in enumerate(classIds.items())}"
   ]
  },
  {
   "cell_type": "code",
   "execution_count": 33,
   "metadata": {
    "id": "6lObvfj4Z3Zw"
   },
   "outputs": [],
   "source": [
    "# Convert each image into a PIL image, resize and crop from the center.\n",
    "# Scale the image to have pixel values between 0 and 1 using .ToTensor.\n",
    "# Normalize the input image so a pre-trained model can be leveraged.\n",
    "from torchvision import transforms as T\n",
    "\n",
    "trn_tfms = T.Compose([\n",
    "    T.ToPILImage(),\n",
    "    T.Resize(32),\n",
    "    T.CenterCrop(32),\n",
    "    T.ColorJitter(brightness=(0.8,1.2), \n",
    "    contrast=(0.8,1.2), \n",
    "    saturation=(0.8,1.2), \n",
    "    hue=0.25),\n",
    "    T.RandomAffine(5, translate=(0.01,0.1)),\n",
    "    T.ToTensor(),\n",
    "    T.Normalize(mean=[0.485, 0.456, 0.406], \n",
    "                std=[0.229, 0.224, 0.225]),\n",
    "])\n",
    "\n",
    "val_tfms = T.Compose([\n",
    "    T.ToPILImage(),\n",
    "    T.Resize(32),\n",
    "    T.CenterCrop(32),\n",
    "    T.ToTensor(),\n",
    "    T.Normalize(mean=[0.485, 0.456, 0.406], \n",
    "                std=[0.229, 0.224, 0.225]),\n",
    "])\n",
    "\n",
    "class GTSRB(Dataset):\n",
    "    \"\"\"Face Landmarks dataset.\"\"\"\n",
    "\n",
    "    def __init__(self, files, transform=None):\n",
    "        self.files = files\n",
    "        self.transform = transform\n",
    "        logger.info(len(self))\n",
    "\n",
    "    def __len__(self):\n",
    "        return len(self.files)\n",
    "\n",
    "    def __getitem__(self, ix):\n",
    "        fpath = self.files[ix]\n",
    "        clss = fname(parent(fpath))\n",
    "        img = read(fpath, 1)\n",
    "        return img, classIds[clss]\n",
    "\n",
    "    def choose(self):\n",
    "        return self[randint(len(self))]\n",
    "\n",
    "    def collate_fn(self, batch):\n",
    "        imgs, classes = list(zip(*batch))\n",
    "        if self.transform:\n",
    "            imgs = [self.transform(img)[None] for img in imgs]\n",
    "        classes = [torch.tensor([id2int[clss]]) for clss in classes]\n",
    "        imgs, classes = [torch.cat(i).to(device) for i in [imgs, classes]]\n",
    "        return imgs, classes"
   ]
  },
  {
   "cell_type": "code",
   "execution_count": 34,
   "metadata": {},
   "outputs": [
    {
     "data": {
      "text/html": [
       "<pre style=\"white-space:pre;overflow-x:auto;line-height:normal;font-family:Menlo,'DejaVu Sans Mono',consolas,'Courier New',monospace\"><span style=\"color: #7fbfbf; text-decoration-color: #7fbfbf\">[02/26/24 15:00:20] </span><span style=\"color: #bfbf7f; text-decoration-color: #bfbf7f\">INFO    </span> <span style=\"color: #008080; text-decoration-color: #008080; font-weight: bold\">29406</span>                                                                                                                 <a href=\"file:///tmp/ipykernel_165/2140838038.py:35\" target=\"_blank\"><span style=\"color: #7f7f7f; text-decoration-color: #7f7f7f\">2140838038.py</span></a><span style=\"color: #7f7f7f; text-decoration-color: #7f7f7f\">:</span><a href=\"file:///tmp/ipykernel_165/2140838038.py:35#__init__:35\" target=\"_blank\"><span style=\"color: #7f7f7f; text-decoration-color: #7f7f7f\">__init__:35</span></a>\n",
       "</pre>\n"
      ],
      "text/plain": [
       "\u001b[2;36m[02/26/24 15:00:20]\u001b[0m\u001b[2;36m \u001b[0m\u001b[2;33mINFO    \u001b[0m \u001b[1;36m29406\u001b[0m                                                                                                                 \u001b]8;id=311893;file:///tmp/ipykernel_165/2140838038.py:35\u001b\\\u001b[2m2140838038.py\u001b[0m\u001b]8;;\u001b\\\u001b[2m:\u001b[0m\u001b]8;id=320361;file:///tmp/ipykernel_165/2140838038.py:35#__init__:35\u001b\\\u001b[2m__init__:35\u001b[0m\u001b]8;;\u001b\\\n"
      ]
     },
     "metadata": {},
     "output_type": "display_data"
    },
    {
     "data": {
      "text/html": [
       "<pre style=\"white-space:pre;overflow-x:auto;line-height:normal;font-family:Menlo,'DejaVu Sans Mono',consolas,'Courier New',monospace\"><span style=\"color: #7fbfbf; text-decoration-color: #7fbfbf\">                    </span><span style=\"color: #bfbf7f; text-decoration-color: #bfbf7f\">INFO    </span> <span style=\"color: #008080; text-decoration-color: #008080; font-weight: bold\">9803</span>                                                                                                                  <a href=\"file:///tmp/ipykernel_165/2140838038.py:35\" target=\"_blank\"><span style=\"color: #7f7f7f; text-decoration-color: #7f7f7f\">2140838038.py</span></a><span style=\"color: #7f7f7f; text-decoration-color: #7f7f7f\">:</span><a href=\"file:///tmp/ipykernel_165/2140838038.py:35#__init__:35\" target=\"_blank\"><span style=\"color: #7f7f7f; text-decoration-color: #7f7f7f\">__init__:35</span></a>\n",
       "</pre>\n"
      ],
      "text/plain": [
       "\u001b[2;36m                   \u001b[0m\u001b[2;36m \u001b[0m\u001b[2;33mINFO    \u001b[0m \u001b[1;36m9803\u001b[0m                                                                                                                  \u001b]8;id=17835;file:///tmp/ipykernel_165/2140838038.py:35\u001b\\\u001b[2m2140838038.py\u001b[0m\u001b]8;;\u001b\\\u001b[2m:\u001b[0m\u001b]8;id=919375;file:///tmp/ipykernel_165/2140838038.py:35#__init__:35\u001b\\\u001b[2m__init__:35\u001b[0m\u001b]8;;\u001b\\\n"
      ]
     },
     "metadata": {},
     "output_type": "display_data"
    }
   ],
   "source": [
    "# Create the training and validation datasets and dataloaders.\n",
    "device = 'cuda' if torch.cuda.is_available() else 'cpu'\n",
    "all_files = Glob('GTSRB/Final_Training/Images/*/*.ppm')\n",
    "np.random.seed(10)\n",
    "np.random.shuffle(all_files)\n",
    "\n",
    "from sklearn.model_selection import train_test_split\n",
    "trn_files, val_files = train_test_split(all_files, random_state=1)\n",
    "\n",
    "trn_ds = GTSRB(trn_files, transform=trn_tfms)\n",
    "val_ds = GTSRB(val_files, transform=val_tfms)\n",
    "trn_dl = DataLoader(trn_ds, 32, shuffle=True, collate_fn=trn_ds.collate_fn)\n",
    "val_dl = DataLoader(val_ds, 32, shuffle=False, collate_fn=val_ds.collate_fn)"
   ]
  },
  {
   "cell_type": "code",
   "execution_count": 35,
   "metadata": {},
   "outputs": [],
   "source": [
    "# Define the model.\n",
    "import torchvision.models as models\n",
    "\n",
    "def convBlock(ni, no):\n",
    "    return nn.Sequential(\n",
    "        nn.Dropout(0.2),\n",
    "        nn.Conv2d(ni, no, kernel_size=3, padding=1),\n",
    "        nn.ReLU(inplace=True),\n",
    "        nn.BatchNorm2d(no),\n",
    "        nn.MaxPool2d(2),\n",
    "    )\n",
    "    \n",
    "class SignClassifier(nn.Module):\n",
    "    def __init__(self):\n",
    "        super().__init__()\n",
    "        self.model = nn.Sequential(\n",
    "            convBlock(3, 64),\n",
    "            convBlock(64, 64),\n",
    "            convBlock(64, 128),\n",
    "            convBlock(128, 64),\n",
    "            nn.Flatten(),\n",
    "            nn.Linear(256, 256),\n",
    "            nn.Dropout(0.2),\n",
    "            nn.ReLU(inplace=True),\n",
    "            nn.Linear(256, len(id2int))\n",
    "        )\n",
    "        self.loss_fn = nn.CrossEntropyLoss()\n",
    "\n",
    "    def forward(self, x):\n",
    "        return self.model(x)\n",
    "\n",
    "    def compute_metrics(self, preds, targets):\n",
    "        ce_loss = self.loss_fn(preds, targets)\n",
    "        acc = (torch.max(preds, 1)[1] == targets).float().mean()\n",
    "        return ce_loss, acc"
   ]
  },
  {
   "cell_type": "code",
   "execution_count": 36,
   "metadata": {},
   "outputs": [],
   "source": [
    "# Define the functions to train and validate on a batch of data.\n",
    "def train_batch(model, data, optimizer, criterion):\n",
    "    ims, labels = data\n",
    "    _preds = model(ims)\n",
    "    optimizer.zero_grad()\n",
    "    loss, acc = criterion(_preds, labels)\n",
    "    loss.backward()\n",
    "    optimizer.step()\n",
    "    return loss.item(), acc.item()\n",
    "\n",
    "@torch.no_grad()\n",
    "def validate_batch(model, data, criterion):\n",
    "    ims, labels = data\n",
    "    _preds = model(ims)\n",
    "    loss, acc = criterion(_preds, labels)\n",
    "    return loss.item(), acc.item()"
   ]
  },
  {
   "cell_type": "code",
   "execution_count": 37,
   "metadata": {},
   "outputs": [
    {
     "name": "stdout",
     "output_type": "stream",
     "text": [
      "EPOCH: 1.000  trn_acc: 0.455  val_loss: 0.772  val_acc: 0.752  trn_loss: 1.862  (26.88s - 1048.25s remaining)\n",
      "EPOCH: 2.000  trn_acc: 0.777  val_loss: 0.469  val_acc: 0.844  trn_loss: 0.700  (52.09s - 989.79s remaining)\n",
      "EPOCH: 3.000  trn_acc: 0.837  val_loss: 0.381  val_acc: 0.873  trn_loss: 0.500  (77.24s - 952.65s remaining)\n",
      "EPOCH: 4.000  trn_acc: 0.871  val_loss: 0.292  val_acc: 0.906  trn_loss: 0.398  (102.28s - 920.55s remaining)\n",
      "EPOCH: 5.000  trn_acc: 0.887  val_loss: 0.268  val_acc: 0.908  trn_loss: 0.341  (127.53s - 892.70s remaining)\n",
      "EPOCH: 6.000  trn_acc: 0.900  val_loss: 0.217  val_acc: 0.928  trn_loss: 0.303  (152.74s - 865.51s remaining)\n",
      "EPOCH: 7.000  trn_acc: 0.911  val_loss: 0.219  val_acc: 0.924  trn_loss: 0.264  (177.95s - 838.92s remaining)\n",
      "EPOCH: 8.000  trn_acc: 0.920  val_loss: 0.182  val_acc: 0.940  trn_loss: 0.247  (203.19s - 812.76s remaining)\n",
      "EPOCH: 9.000  trn_acc: 0.925  val_loss: 0.187  val_acc: 0.938  trn_loss: 0.227  (228.55s - 787.22s remaining)\n",
      "EPOCH: 10.000  trn_acc: 0.929  val_loss: 0.178  val_acc: 0.943  trn_loss: 0.214  (254.21s - 762.62s remaining)\n",
      "EPOCH: 11.000  trn_acc: 0.935  val_loss: 0.168  val_acc: 0.944  trn_loss: 0.197  (279.84s - 737.75s remaining)\n",
      "EPOCH: 12.000  trn_acc: 0.952  val_loss: 0.119  val_acc: 0.961  trn_loss: 0.144  (305.05s - 711.78s remaining)\n",
      "EPOCH: 13.000  trn_acc: 0.957  val_loss: 0.112  val_acc: 0.962  trn_loss: 0.127  (330.10s - 685.60s remaining)\n",
      "EPOCH: 14.000  trn_acc: 0.962  val_loss: 0.103  val_acc: 0.967  trn_loss: 0.117  (355.35s - 659.93s remaining)\n",
      "EPOCH: 15.000  trn_acc: 0.962  val_loss: 0.089  val_acc: 0.969  trn_loss: 0.109  (380.41s - 634.02s remaining)\n",
      "EPOCH: 16.000  trn_acc: 0.964  val_loss: 0.097  val_acc: 0.968  trn_loss: 0.105  (405.48s - 608.22s remaining)\n",
      "EPOCH: 17.000  trn_acc: 0.965  val_loss: 0.094  val_acc: 0.970  trn_loss: 0.103  (430.58s - 582.55s remaining)\n",
      "EPOCH: 18.000  trn_acc: 0.967  val_loss: 0.090  val_acc: 0.970  trn_loss: 0.096  (456.07s - 557.42s remaining)\n",
      "EPOCH: 19.000  trn_acc: 0.967  val_loss: 0.088  val_acc: 0.971  trn_loss: 0.096  (481.67s - 532.37s remaining)\n",
      "EPOCH: 20.000  trn_acc: 0.967  val_loss: 0.082  val_acc: 0.972  trn_loss: 0.095  (506.75s - 506.75s remaining)\n",
      "EPOCH: 21.000  trn_acc: 0.969  val_loss: 0.093  val_acc: 0.969  trn_loss: 0.089  (532.78s - 482.04s remaining)\n",
      "EPOCH: 22.000  trn_acc: 0.969  val_loss: 0.084  val_acc: 0.974  trn_loss: 0.088  (558.92s - 457.29s remaining)\n",
      "EPOCH: 23.000  trn_acc: 0.971  val_loss: 0.086  val_acc: 0.971  trn_loss: 0.085  (585.04s - 432.42s remaining)\n",
      "EPOCH: 24.000  trn_acc: 0.970  val_loss: 0.082  val_acc: 0.973  trn_loss: 0.086  (611.19s - 407.46s remaining)\n",
      "EPOCH: 25.000  trn_acc: 0.972  val_loss: 0.085  val_acc: 0.971  trn_loss: 0.086  (637.31s - 382.38s remaining)\n",
      "EPOCH: 26.000  trn_acc: 0.972  val_loss: 0.076  val_acc: 0.974  trn_loss: 0.080  (663.43s - 357.23s remaining)\n",
      "EPOCH: 27.000  trn_acc: 0.972  val_loss: 0.080  val_acc: 0.974  trn_loss: 0.080  (689.54s - 332.00s remaining)\n",
      "EPOCH: 28.000  trn_acc: 0.973  val_loss: 0.075  val_acc: 0.974  trn_loss: 0.079  (715.64s - 306.70s remaining)\n",
      "EPOCH: 29.000  trn_acc: 0.973  val_loss: 0.079  val_acc: 0.974  trn_loss: 0.077  (741.74s - 281.35s remaining)\n",
      "EPOCH: 30.000  trn_acc: 0.973  val_loss: 0.074  val_acc: 0.975  trn_loss: 0.077  (767.84s - 255.95s remaining)\n",
      "EPOCH: 31.000  trn_acc: 0.975  val_loss: 0.072  val_acc: 0.977  trn_loss: 0.074  (793.97s - 230.51s remaining)\n",
      "EPOCH: 32.000  trn_acc: 0.972  val_loss: 0.078  val_acc: 0.973  trn_loss: 0.079  (819.72s - 204.93s remaining)\n",
      "EPOCH: 33.000  trn_acc: 0.976  val_loss: 0.073  val_acc: 0.976  trn_loss: 0.073  (845.19s - 179.28s remaining)\n",
      "EPOCH: 34.000  trn_acc: 0.976  val_loss: 0.072  val_acc: 0.976  trn_loss: 0.074  (870.65s - 153.64s remaining)\n",
      "EPOCH: 35.000  trn_acc: 0.976  val_loss: 0.068  val_acc: 0.977  trn_loss: 0.071  (896.48s - 128.07s remaining)\n",
      "EPOCH: 36.000  trn_acc: 0.976  val_loss: 0.070  val_acc: 0.977  trn_loss: 0.072  (922.58s - 102.51s remaining)\n",
      "EPOCH: 37.000  trn_acc: 0.978  val_loss: 0.069  val_acc: 0.977  trn_loss: 0.068  (948.67s - 76.92s remaining)\n",
      "EPOCH: 38.000  trn_acc: 0.976  val_loss: 0.063  val_acc: 0.979  trn_loss: 0.069  (974.76s - 51.30s remaining)\n",
      "EPOCH: 39.000  trn_acc: 0.977  val_loss: 0.066  val_acc: 0.978  trn_loss: 0.066  (1000.87s - 25.66s remaining)\n",
      "EPOCH: 40.000  trn_acc: 0.977  val_loss: 0.062  val_acc: 0.981  trn_loss: 0.066  (1026.99s - 0.00s remaining)\n"
     ]
    },
    {
     "name": "stderr",
     "output_type": "stream",
     "text": [
      "100%|██████████| 141/141 [00:01<00:00, 96.34it/s] \n"
     ]
    },
    {
     "data": {
      "image/png": "[encoded data removed]",
      "text/plain": [
       "<Figure size 800x600 with 1 Axes>"
      ]
     },
     "metadata": {},
     "output_type": "display_data"
    },
    {
     "data": {
      "text/html": [
       "<pre style=\"white-space:pre;overflow-x:auto;line-height:normal;font-family:Menlo,'DejaVu Sans Mono',consolas,'Courier New',monospace\"><span style=\"color: #7fbfbf; text-decoration-color: #7fbfbf\">[02/26/24 15:18:13] </span><span style=\"color: #bfbf7f; text-decoration-color: #bfbf7f\">INFO    </span> Dumped object of size ≈<span style=\"color: #008080; text-decoration-color: #008080; font-weight: bold\">2</span> MB @ <span style=\"color: #008000; text-decoration-color: #008000\">\"40-yes-aug-yes-bn.log\"</span> in <span style=\"color: #008080; text-decoration-color: #008080; font-weight: bold\">1.44e+00</span> seconds                                             <a href=\"file:///tmp/ipykernel_165/2088580068.py:23\" target=\"_blank\"><span style=\"color: #7f7f7f; text-decoration-color: #7f7f7f\">2088580068.py</span></a><span style=\"color: #7f7f7f; text-decoration-color: #7f7f7f\">:</span><a href=\"file:///tmp/ipykernel_165/2088580068.py:23#<module>:23\" target=\"_blank\"><span style=\"color: #7f7f7f; text-decoration-color: #7f7f7f\">&lt;module&gt;:23</span></a>\n",
       "</pre>\n"
      ],
      "text/plain": [
       "\u001b[2;36m[02/26/24 15:18:13]\u001b[0m\u001b[2;36m \u001b[0m\u001b[2;33mINFO    \u001b[0m Dumped object of size ≈\u001b[1;36m2\u001b[0m MB @ \u001b[32m\"40-yes-aug-yes-bn.log\"\u001b[0m in \u001b[1;36m1.44e+00\u001b[0m seconds                                             \u001b]8;id=630138;file:///tmp/ipykernel_165/2088580068.py:23\u001b\\\u001b[2m2088580068.py\u001b[0m\u001b]8;;\u001b\\\u001b[2m:\u001b[0m\u001b]8;id=776544;file:///tmp/ipykernel_165/2088580068.py:23#<module>:23\u001b\\\u001b[2m<module>:23\u001b[0m\u001b]8;;\u001b\\\n"
      ]
     },
     "metadata": {},
     "output_type": "display_data"
    },
    {
     "data": {
      "text/plain": [
       "» 40-yes-aug-yes-bn.log"
      ]
     },
     "execution_count": 37,
     "metadata": {},
     "output_type": "execute_result"
    }
   ],
   "source": [
    "# Define the model. Train over increasing epochs.\n",
    "model = SignClassifier().to(device)\n",
    "criterion = model.compute_metrics\n",
    "optimizer = optim.Adam(model.parameters(), lr=1e-3)\n",
    "n_epochs = 40\n",
    "\n",
    "log = Report(n_epochs)\n",
    "for ex in range(n_epochs):\n",
    "    N = len(trn_dl)\n",
    "    for bx, data in enumerate(trn_dl):\n",
    "        loss, acc = train_batch(model, data, optimizer, criterion)\n",
    "        log.record(ex+(bx+1)/N, trn_loss=loss, trn_acc=acc, end='\\r')\n",
    "\n",
    "    N = len(val_dl)\n",
    "    for bx, data in enumerate(val_dl):\n",
    "        loss, acc = validate_batch(model, data, criterion)\n",
    "        log.record(ex+(bx+1)/N, val_loss=loss, val_acc=acc, end='\\r')\n",
    "        \n",
    "    log.report_avgs(ex+1)\n",
    "    if ex == 10: optimizer = optim.Adam(model.parameters(), lr=1e-4)\n",
    "\n",
    "log.plot_epochs()\n",
    "dumpdill(log, '40-yes-aug-yes-bn.log')"
   ]
  },
  {
   "cell_type": "code",
   "execution_count": null,
   "metadata": {},
   "outputs": [],
   "source": []
  }
 ],
 "metadata": {
  "accelerator": "GPU",
  "colab": {
   "authorship_tag": "ABX9TyPRgIcco9JLw0/MN/P+LT1O",
   "collapsed_sections": [],
   "include_colab_link": true,
   "name": "Road_sign_detection.ipynb",
   "provenance": []
  },
  "kernelspec": {
   "display_name": "Python 3 (ipykernel)",
   "language": "python",
   "name": "python3"
  },
  "language_info": {
   "codemirror_mode": {
    "name": "ipython",
    "version": 3
   },
   "file_extension": ".py",
   "mimetype": "text/x-python",
   "name": "python",
   "nbconvert_exporter": "python",
   "pygments_lexer": "ipython3",
   "version": "3.8.10"
  }
 },
 "nbformat": 4,
 "nbformat_minor": 4
}
